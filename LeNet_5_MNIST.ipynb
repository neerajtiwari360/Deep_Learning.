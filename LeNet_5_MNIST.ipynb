{
  "nbformat": 4,
  "nbformat_minor": 0,
  "metadata": {
    "colab": {
      "name": "LeNet-5_MNIST.ipynb",
      "version": "0.3.2",
      "provenance": [],
      "collapsed_sections": []
    },
    "kernelspec": {
      "name": "python3",
      "display_name": "Python 3"
    }
  },
  "cells": [
    {
      "cell_type": "markdown",
      "metadata": {
        "id": "view-in-github",
        "colab_type": "text"
      },
      "source": [
        "[View in Colaboratory](https://colab.research.google.com/github/neerajtiwari360/Deep_Learning./blob/Object_Classifier_N_Layer_NN/LeNet_5_MNIST.ipynb)"
      ]
    },
    {
      "metadata": {
        "id": "CHYvdDULSAfv",
        "colab_type": "text"
      },
      "cell_type": "markdown",
      "source": [
        "# **LeNet-5 CNN on MNIST dataset**\n"
      ]
    },
    {
      "metadata": {
        "id": "PPDDaI2XRcOB",
        "colab_type": "code",
        "colab": {}
      },
      "cell_type": "code",
      "source": [
        "from tensorflow.examples.tutorials.mnist import input_data\n",
        "import tensorflow as tf\n",
        "import random\n",
        "import numpy as np\n",
        "import matplotlib.pyplot as plt\n",
        "from sklearn.utils import shuffle\n",
        "from tensorflow.contrib.layers import flatten\n",
        "\n",
        "%matplotlib inline\n"
      ],
      "execution_count": 0,
      "outputs": []
    },
    {
      "metadata": {
        "id": "EYhn4--0SOUm",
        "colab_type": "text"
      },
      "cell_type": "markdown",
      "source": [
        "**Read the dataset **"
      ]
    },
    {
      "metadata": {
        "id": "8NtoHXbsRiV5",
        "colab_type": "code",
        "colab": {}
      },
      "cell_type": "code",
      "source": [
        "mnist = input_data.read_data_sets(\"MNIST_data/\", reshape=False)"
      ],
      "execution_count": 0,
      "outputs": []
    },
    {
      "metadata": {
        "id": "5R6W4FhnSXqj",
        "colab_type": "text"
      },
      "cell_type": "markdown",
      "source": [
        "**Check the size of training/validation/testing dataset**"
      ]
    },
    {
      "metadata": {
        "id": "ZCW9n_1TRiYR",
        "colab_type": "code",
        "colab": {}
      },
      "cell_type": "code",
      "source": [
        "X_train, y_train           = mnist.train.images, mnist.train.labels\n",
        "X_validation, y_validation = mnist.validation.images, mnist.validation.labels\n",
        "X_test, y_test             = mnist.test.images, mnist.test.labels\n",
        "\n",
        "print()\n",
        "print(\"Image Shape: \" + str(X_train[0].shape))\n",
        "print()\n",
        "print(\"Training Set: \" + str(len(X_train))+ \" samples\")\n",
        "print(\"Validation Set: \"+ str(len(X_validation))+\" samples\")\n",
        "print(\"Test Set: \"+ str(len(X_test))+ \" samples\")"
      ],
      "execution_count": 0,
      "outputs": []
    },
    {
      "metadata": {
        "id": "olF3Y-wuSob1",
        "colab_type": "text"
      },
      "cell_type": "markdown",
      "source": [
        "**Padding the dataset to avoid the loss of data at the edges**"
      ]
    },
    {
      "metadata": {
        "id": "88d046N-Riar",
        "colab_type": "code",
        "colab": {}
      },
      "cell_type": "code",
      "source": [
        "# Pad images with 0s\n",
        "X_train      = np.pad(X_train, ((0,0),(2,2),(2,2),(0,0)), 'constant')\n",
        "X_validation = np.pad(X_validation, ((0,0),(2,2),(2,2),(0,0)), 'constant')\n",
        "X_test       = np.pad(X_test, ((0,0),(2,2),(2,2),(0,0)), 'constant')\n",
        "    \n",
        "print(\"Updated Image Shape: \"+ str(X_train[0].shape))"
      ],
      "execution_count": 0,
      "outputs": []
    },
    {
      "metadata": {
        "id": "sdPHmgTwS1Yp",
        "colab_type": "text"
      },
      "cell_type": "markdown",
      "source": [
        "**Check any one training data image & label**"
      ]
    },
    {
      "metadata": {
        "id": "ng_m0RkzRidN",
        "colab_type": "code",
        "colab": {}
      },
      "cell_type": "code",
      "source": [
        "index = 100\n",
        "image = X_train[index].squeeze()\n",
        "plt.imshow(image, cmap=\"gray\")\n",
        "print(y_train[index])"
      ],
      "execution_count": 0,
      "outputs": []
    },
    {
      "metadata": {
        "id": "iYfYE15wS_BD",
        "colab_type": "text"
      },
      "cell_type": "markdown",
      "source": [
        "**Shuffle the traning data to avoid overfitting**"
      ]
    },
    {
      "metadata": {
        "id": "BgC91wykRigN",
        "colab_type": "code",
        "colab": {}
      },
      "cell_type": "code",
      "source": [
        "X_train, y_train = shuffle(X_train, y_train)"
      ],
      "execution_count": 0,
      "outputs": []
    },
    {
      "metadata": {
        "id": "y82BlYhiTJmo",
        "colab_type": "text"
      },
      "cell_type": "markdown",
      "source": [
        "**Forward Helper function**\n",
        ">Implements the forward propagation for the model:\n",
        "\n",
        ">CONV2D -> MAXPOOL -> CONV2D -> MAXPOOL -> FLATTEN -> FULLYCONNECTED -> FULLYCONNECTED -> FULLYCONNECTED"
      ]
    },
    {
      "metadata": {
        "id": "5whqdd7HRiiI",
        "colab_type": "code",
        "colab": {}
      },
      "cell_type": "code",
      "source": [
        "def forward_model(x):    \n",
        "    mu = 0\n",
        "    sigma = 0.1\n",
        "    \n",
        "    #Layer 1: Convolutional. Input = 32x32x1. Output = 28x28x6.\n",
        "    W1 = tf.Variable(tf.truncated_normal(shape = [5,5,1,6],mean = mu, stddev = sigma))\n",
        "    b1 = tf.Variable(tf.zeros(6))\n",
        "    conv1 = tf.nn.conv2d(x,W1, strides = [1,1,1,1], padding = 'VALID') + b1 \n",
        "    conv1 = tf.nn.relu(conv1)\n",
        "\n",
        "    #Pooling. Input = 28x28x6. Output = 14x14x6.\n",
        "    pool_1 = tf.nn.max_pool(conv1,ksize = [1,2,2,1], strides = [1,2,2,1], padding = 'VALID')\n",
        "    \n",
        "    #Layer 2: Convolutional. Output = 10x10x16.\n",
        "    W2 = tf.Variable(tf.truncated_normal(shape = [5,5,6,16], mean = mu, stddev = sigma))\n",
        "    b2 = tf.Variable(tf.zeros(16))\n",
        "    conv2 = tf.nn.conv2d(pool_1, W2, strides = [1,1,1,1], padding = 'VALID') + b2\n",
        "    conv2 = tf.nn.relu(conv2)\n",
        "\n",
        "    #Pooling. Input = 10x10x16. Output = 5x5x16.\n",
        "    pool_2 = tf.nn.max_pool(conv2, ksize = [1,2,2,1], strides = [1,2,2,1], padding = 'VALID') \n",
        "    \n",
        "    #Flatten. Input = 5x5x16. Output = 400.\n",
        "    fc1 = flatten(pool_2)\n",
        "    \n",
        "    #Layer 3: Fully Connected. Input = 400. Output = 120.\n",
        "    W3 = tf.Variable(tf.truncated_normal(shape = (400,120), mean = mu, stddev = sigma))\n",
        "    b3 = tf.Variable(tf.zeros(120))\n",
        "    fc1 = tf.matmul(fc1,W3) + b3\n",
        "    fc1 = tf.nn.relu(fc1)\n",
        "\n",
        "    #Layer 4: Fully Connected. Input = 120. Output = 84.\n",
        "    W4= tf.Variable(tf.truncated_normal(shape = (120,84), mean = mu, stddev = sigma))\n",
        "    b4 = tf.Variable(tf.zeros(84))\n",
        "    fc2 = tf.matmul(fc1,W4) + b4\n",
        "    fc2 = tf.nn.relu(fc2)\n",
        "    \n",
        "    #Layer 5: Fully Connected. Input = 84. Output = 10.\n",
        "    Wo = tf.Variable(tf.truncated_normal(shape = (84,10), mean = mu , stddev = sigma))\n",
        "    bo = tf.Variable(tf.zeros(10))\n",
        "    yout = tf.matmul(fc2, Wo) + bo\n",
        "    return yout"
      ],
      "execution_count": 0,
      "outputs": []
    },
    {
      "metadata": {
        "id": "aG9xEdibTowH",
        "colab_type": "text"
      },
      "cell_type": "markdown",
      "source": [
        "**Placeholder in which we put the data later**"
      ]
    },
    {
      "metadata": {
        "id": "Yr395H5lRzlS",
        "colab_type": "code",
        "colab": {}
      },
      "cell_type": "code",
      "source": [
        "x = tf.placeholder(tf.float32, (None, 32, 32, 1))\n",
        "y = tf.placeholder(tf.int32, (None))\n",
        "one_hot_y = tf.one_hot(y, 10)"
      ],
      "execution_count": 0,
      "outputs": []
    },
    {
      "metadata": {
        "id": "u7dG4qyITxcU",
        "colab_type": "text"
      },
      "cell_type": "markdown",
      "source": [
        "**Defining Cost, optimizeit & apply backword propagation**"
      ]
    },
    {
      "metadata": {
        "id": "CnDd22bERzso",
        "colab_type": "code",
        "colab": {}
      },
      "cell_type": "code",
      "source": [
        "rate = 0.001\n",
        "EPOCHS = 10\n",
        "BATCH_SIZE = 100\n",
        "\n",
        "\n",
        "logits = forward_model(x)\n",
        "cost = tf.reduce_mean(tf.nn.softmax_cross_entropy_with_logits_v2(logits=logits,labels=one_hot_y))\n",
        "optimizer = tf.train.AdamOptimizer(learning_rate = rate)\n",
        "training_operation = optimizer.minimize(cost)"
      ],
      "execution_count": 0,
      "outputs": []
    },
    {
      "metadata": {
        "id": "eKDb3b4sUA1Q",
        "colab_type": "text"
      },
      "cell_type": "markdown",
      "source": [
        "**Start the Session**\n",
        "> Apply Batch Gradient desient method with training dataset"
      ]
    },
    {
      "metadata": {
        "id": "nh_3ct1yRild",
        "colab_type": "code",
        "colab": {}
      },
      "cell_type": "code",
      "source": [
        "correct_prediction = tf.equal(tf.argmax(logits, 1), tf.argmax(one_hot_y, 1))\n",
        "accuracy_operation = tf.reduce_mean(tf.cast(correct_prediction, tf.float32))\n",
        "\n",
        "def evaluate(X_data, y_data):\n",
        "    num_examples = len(X_data)\n",
        "    total_accuracy = 0\n",
        "    sess = tf.get_default_session()\n",
        "    for i in range(0, num_examples, BATCH_SIZE):\n",
        "        batch_x, batch_y = X_data[i:i+BATCH_SIZE], y_data[i:i+BATCH_SIZE]\n",
        "        accuracy = sess.run(accuracy_operation, feed_dict={x: batch_x, y: batch_y})\n",
        "        total_accuracy += (accuracy * len(batch_x))\n",
        "    return total_accuracy / num_examples"
      ],
      "execution_count": 0,
      "outputs": []
    },
    {
      "metadata": {
        "id": "advAoGbKUWi-",
        "colab_type": "text"
      },
      "cell_type": "markdown",
      "source": [
        "**Check the Accuracy for the validation dataset**"
      ]
    },
    {
      "metadata": {
        "id": "B0Ltsr5kR9Yz",
        "colab_type": "code",
        "colab": {}
      },
      "cell_type": "code",
      "source": [
        "with tf.Session() as sess:\n",
        "    sess.run(tf.global_variables_initializer())\n",
        "    num_examples = len(X_train)\n",
        "    \n",
        "    print(\"Training...\")\n",
        "    print()\n",
        "    for i in range(EPOCHS):\n",
        "        X_train, y_train = shuffle(X_train, y_train)\n",
        "        for offset in range(0, num_examples, BATCH_SIZE):\n",
        "            end = offset + BATCH_SIZE\n",
        "            batch_x, batch_y = X_train[offset:end], y_train[offset:end]\n",
        "            sess.run(training_operation, feed_dict={x: batch_x, y: batch_y})\n",
        "            \n",
        "        validation_accuracy = evaluate(X_validation, y_validation)\n",
        "        print(\"Iteration...\"+ str(i+1))\n",
        "        print(\"Validation Accuracy =\"+ str(validation_accuracy*100)+\"%\")\n",
        "        print()"
      ],
      "execution_count": 0,
      "outputs": []
    }
  ]
}